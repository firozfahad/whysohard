{
 "cells": [
  {
   "cell_type": "markdown",
   "metadata": {},
   "source": [
    "## double palindrome"
   ]
  },
  {
   "cell_type": "markdown",
   "metadata": {},
   "source": [
    "*if both num n square are palindrome*\n",
    "\n",
    "> usual  palindrome func n\n",
    "\n",
    "> and statement to find for its square"
   ]
  },
  {
   "cell_type": "code",
   "execution_count": 27,
   "metadata": {},
   "outputs": [
    {
     "name": "stdout",
     "output_type": "stream",
     "text": [
      "False\n"
     ]
    }
   ],
   "source": [
    "def palindrome(m):\n",
    "  M=str(m)\n",
    "  if len(M)<2:\n",
    "    return True\n",
    "  \n",
    "  if M[0]!=M[-1]:\n",
    "    return False\n",
    "  return palindrome(M[1:-1])\n",
    "\n",
    "print(palindrome(6543))"
   ]
  },
  {
   "cell_type": "markdown",
   "metadata": {},
   "source": [
    "#### code for double pali"
   ]
  },
  {
   "cell_type": "code",
   "execution_count": 31,
   "metadata": {},
   "outputs": [
    {
     "name": "stdout",
     "output_type": "stream",
     "text": [
      "False\n",
      "[0, 1, 2, 3, 11, 22, 101, 111, 121, 202, 212]\n"
     ]
    }
   ],
   "source": [
    "\n",
    "\n",
    "def palindrome(m):\n",
    "  M=str(m)\n",
    "  if len(M)<2:\n",
    "    return True\n",
    "  \n",
    "  if M[0]!=M[-1]:\n",
    "    return False\n",
    "  return palindrome(M[1:-1])\n",
    "\n",
    "\n",
    "def double_pal(n):\n",
    "  z=n**2\n",
    "  if palindrome(n) and palindrome(z):\n",
    "    return True \n",
    "  return False\n",
    "\n",
    "print(double_pal(67))\n",
    "\n",
    "\n",
    "\n",
    "  \n"
   ]
  },
  {
   "cell_type": "markdown",
   "metadata": {},
   "source": [
    "#### to get list of double palindrome"
   ]
  },
  {
   "cell_type": "code",
   "execution_count": 33,
   "metadata": {},
   "outputs": [
    {
     "name": "stdout",
     "output_type": "stream",
     "text": [
      "[0, 1, 2, 3, 11, 22, 101, 111, 121, 202, 212, 1001, 1111, 2002]\n"
     ]
    }
   ],
   "source": [
    "import random\n",
    "double=[]\n",
    "for i in range(int(input())):\n",
    "  if double_pal(i):\n",
    "    double.append(i)\n",
    "print(double)\n",
    "  "
   ]
  },
  {
   "cell_type": "markdown",
   "metadata": {},
   "source": [
    "## Equidistant function"
   ]
  },
  {
   "cell_type": "markdown",
   "metadata": {},
   "source": [
    "*D(P1,P2)=(x1-x2)+(y1-y2)*\n",
    "\n",
    "> 1 should make something tht calculates distance between the points\n",
    "\n",
    "> 2 then deploy equidistant function\n"
   ]
  },
  {
   "cell_type": "code",
   "execution_count": 35,
   "metadata": {},
   "outputs": [
    {
     "name": "stdout",
     "output_type": "stream",
     "text": [
      "[[2, 2], [4, 4]]\n"
     ]
    }
   ],
   "source": [
    "def distance(p,q):\n",
    "  x1,x2,y1,y2=int(p[0]),int(q[0]),int(p[1]),int(q[1])\n",
    "  distance=0\n",
    "  for i in p,q:\n",
    "    distance=abs(x1-x2)+abs(y1-y2)\n",
    "  return distance\n",
    "\n",
    "\n",
    "def equi(points,P,d):\n",
    "  result=[]\n",
    "  for i in points:\n",
    "    if distance(i,P)==d:\n",
    "      result.append(i)\n",
    "  return result\n",
    "\n",
    "print(equi([[1,1],[2,2],[3,3],[4,4],[5,5]],[3,3],2))"
   ]
  },
  {
   "cell_type": "markdown",
   "metadata": {},
   "source": [
    "## no of pages in book\n"
   ]
  },
  {
   "cell_type": "markdown",
   "metadata": {},
   "source": [
    "> should make a dictionary for each no\n",
    "\n",
    ">append count"
   ]
  },
  {
   "cell_type": "code",
   "execution_count": 46,
   "metadata": {},
   "outputs": [
    {
     "name": "stdout",
     "output_type": "stream",
     "text": [
      "{'0': 1392, '1': 2500, '2': 2500, '3': 2500, '4': 2500, '5': 1501, '6': 1500, '7': 1500, '8': 1500, '9': 1500}\n"
     ]
    }
   ],
   "source": [
    "def digit_count_data(n):\n",
    "    # Initialize a dictionary to store the count of each digit\n",
    "    digit_counts = {str(digit): 0 for digit in range(10)}\n",
    "    \n",
    "    for page in range(1, n + 1):\n",
    "        for digit in str(page):\n",
    "            digit_counts[digit] += 1\n",
    "    \n",
    "    return digit_counts\n",
    "\n",
    "# Example usage:\n",
    "n = 5000\n",
    "print(digit_count_data(n))\n",
    "\n",
    "    "
   ]
  },
  {
   "cell_type": "code",
   "execution_count": 59,
   "metadata": {},
   "outputs": [
    {
     "name": "stdout",
     "output_type": "stream",
     "text": [
      "{'0': 0, '1': 0, '2': 0, '3': 0, '4': 0, '5': 0, '6': 0, '7': 0, '8': 0, '9': 0}\n",
      "{'0': 1, '1': 4, '2': 1, '3': 1, '4': 1, '5': 1, '6': 1, '7': 1, '8': 1, '9': 1}\n"
     ]
    }
   ],
   "source": [
    "def digit_count(n):\n",
    "  result={}\n",
    "  for i in range(10):\n",
    "    result[str(i)]=0  # key is always a string\n",
    "  print(result)\n",
    "  \n",
    "\n",
    "  for page in range(1,n+1):  # '123'\n",
    "    for x in str(page):  # 123>> '2'\n",
    "      result[x]+=1\n",
    "  return result\n",
    "\n",
    "n=11\n",
    "print(digit_count(n))\n"
   ]
  },
  {
   "cell_type": "markdown",
   "metadata": {},
   "source": [
    "##password strength"
   ]
  }
 ],
 "metadata": {
  "kernelspec": {
   "display_name": "Python 3",
   "language": "python",
   "name": "python3"
  },
  "language_info": {
   "codemirror_mode": {
    "name": "ipython",
    "version": 3
   },
   "file_extension": ".py",
   "mimetype": "text/x-python",
   "name": "python",
   "nbconvert_exporter": "python",
   "pygments_lexer": "ipython3",
   "version": "3.10.2"
  }
 },
 "nbformat": 4,
 "nbformat_minor": 2
}
